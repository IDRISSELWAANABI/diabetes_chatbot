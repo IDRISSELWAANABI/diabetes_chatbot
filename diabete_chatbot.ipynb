{
  "nbformat": 4,
  "nbformat_minor": 0,
  "metadata": {
    "colab": {
      "provenance": []
    },
    "kernelspec": {
      "name": "python3",
      "display_name": "Python 3"
    },
    "language_info": {
      "name": "python"
    }
  },
  "cells": [
    {
      "cell_type": "code",
      "source": [
        "!pip install gradientai --upgrade"
      ],
      "metadata": {
        "id": "wak76xYYUdXE",
        "outputId": "b1ab6d12-9902-4f0c-cfae-8f26b6a5d16c",
        "colab": {
          "base_uri": "https://localhost:8080/"
        }
      },
      "execution_count": 1,
      "outputs": [
        {
          "output_type": "stream",
          "name": "stdout",
          "text": [
            "Collecting gradientai\n",
            "  Downloading gradientai-1.2.0-py3-none-any.whl (166 kB)\n",
            "\u001b[2K     \u001b[90m━━━━━━━━━━━━━━━━━━━━━━━━━━━━━━━━━━━━━━━━\u001b[0m \u001b[32m166.3/166.3 kB\u001b[0m \u001b[31m2.7 MB/s\u001b[0m eta \u001b[36m0:00:00\u001b[0m\n",
            "\u001b[?25hCollecting aenum>=3.1.11 (from gradientai)\n",
            "  Downloading aenum-3.1.15-py3-none-any.whl (137 kB)\n",
            "\u001b[2K     \u001b[90m━━━━━━━━━━━━━━━━━━━━━━━━━━━━━━━━━━━━━━━━\u001b[0m \u001b[32m137.6/137.6 kB\u001b[0m \u001b[31m7.3 MB/s\u001b[0m eta \u001b[36m0:00:00\u001b[0m\n",
            "\u001b[?25hRequirement already satisfied: pydantic<2.0.0,>=1.10.5 in /usr/local/lib/python3.10/dist-packages (from gradientai) (1.10.13)\n",
            "Requirement already satisfied: python-dateutil>=2.8.2 in /usr/local/lib/python3.10/dist-packages (from gradientai) (2.8.2)\n",
            "Requirement already satisfied: urllib3>=1.25.3 in /usr/local/lib/python3.10/dist-packages (from gradientai) (2.0.7)\n",
            "Requirement already satisfied: typing-extensions>=4.2.0 in /usr/local/lib/python3.10/dist-packages (from pydantic<2.0.0,>=1.10.5->gradientai) (4.5.0)\n",
            "Requirement already satisfied: six>=1.5 in /usr/local/lib/python3.10/dist-packages (from python-dateutil>=2.8.2->gradientai) (1.16.0)\n",
            "Installing collected packages: aenum, gradientai\n",
            "Successfully installed aenum-3.1.15 gradientai-1.2.0\n"
          ]
        }
      ]
    },
    {
      "cell_type": "code",
      "source": [
        "import os\n",
        "os.environ['GRADIENT_ACCESS_TOKEN'] = \"CaL0pY8XgmPLC9qGIFZu23fJJm3pXxuE\"\n",
        "os.environ['GRADIENT_WORKSPACE_ID'] = \"3af031eb-844e-4c0a-94c0-ef65078c97e9_workspace\""
      ],
      "metadata": {
        "id": "U02ytLrPA2rG"
      },
      "execution_count": 8,
      "outputs": []
    },
    {
      "cell_type": "code",
      "source": [
        "from gradientai import Gradient\n",
        "\n",
        "def main():\n",
        "  with Gradient() as gradient:\n",
        "      base_model = gradient.get_base_model(base_model_slug=\"nous-hermes2\")\n",
        "\n",
        "      new_model_adapter = base_model.create_model_adapter(\n",
        "          name=\"test model 3\"\n",
        "      )\n",
        "      print(f\"Created model adapter with id {new_model_adapter.id}\")\n",
        "      sample_query = \"### Instruction: I'm feeling dazy most of the time, is there a chance that I'm suffering from diabete  \\n\\n### Response:\"\n",
        "      print(f\"Asking: {sample_query}\")\n",
        "\n",
        "      # before fine-tuning\n",
        "      completion = new_model_adapter.complete(query=sample_query, max_generated_token_count=100).generated_output\n",
        "      print(completion)\n",
        "\n",
        "  #     samples =     [\n",
        "  #     {\n",
        "  #       \"inputs\": \"### Instruction: What is diabetes? \\n\\n### Response: Diabetes is a chronic medical condition characterized by elevated levels of blood glucose, resulting from the body's inability to produce or effectively use insulin.\"\n",
        "  #     },\n",
        "  #     {\n",
        "  #       \"inputs\": \"### Instruction: Describe the main types of diabetes. \\n\\n### Response: The main types of diabetes are Type 1 diabetes, Type 2 diabetes, and gestational diabetes. Each type has different causes, risk factors, and management approaches.\"\n",
        "  #     },\n",
        "  #     {\n",
        "  #       \"inputs\": \"### Instruction: What are the symptoms of diabetes? \\n\\n### Response: Common symptoms of diabetes include increased thirst, frequent urination, unexplained weight loss, fatigue, blurred vision, and slow wound healing.\"\n",
        "  #     },\n",
        "  #     {\n",
        "  #       \"inputs\": \"### Instruction: How is diabetes diagnosed? \\n\\n### Response: Diabetes is typically diagnosed through blood tests that measure the levels of glucose in the blood. The fasting blood sugar test, oral glucose tolerance test, and glycated hemoglobin (HbA1c) tests are commonly used.\"\n",
        "  #     },\n",
        "  #     {\n",
        "  #       \"inputs\": \"### Instruction: Explain the role of insulin in diabetes. \\n\\n### Response: Insulin is a hormone produced by the pancreas that regulates blood sugar. In diabetes, there may be insufficient insulin production (Type 1) or ineffective use of insulin by the body (Type 2). Insulin therapy is often used to manage blood glucose levels.\"\n",
        "  #     },\n",
        "  #     {\n",
        "  #       \"inputs\": \"### Instruction: How is Type 1 diabetes different from Type 2 diabetes? \\n\\n### Response: Type 1 diabetes is an autoimmune condition where the body attacks and destroys insulin-producing cells. Type 2 diabetes is characterized by insulin resistance and inadequate insulin production. Type 1 usually develops in childhood or adolescence, while Type 2 is more common in adults.\"\n",
        "  #     },\n",
        "  #     {\n",
        "  #       \"inputs\": \"### Instruction: What are the risk factors for developing diabetes? \\n\\n### Response: Risk factors for diabetes include family history, obesity, sedentary lifestyle, age, and certain ethnicities. Gestational diabetes during pregnancy can also increase the risk of Type 2 diabetes later in life.\"\n",
        "  #     },\n",
        "  #     {\n",
        "  #       \"inputs\": \"### Instruction: How is diabetes managed? \\n\\n### Response: Diabetes management involves lifestyle modifications such as a healthy diet, regular exercise, and monitoring blood sugar levels. Medications, including insulin, may be prescribed. Continuous glucose monitoring and regular medical check-ups are essential for effective diabetes care.\"\n",
        "  #     },\n",
        "  #     {\n",
        "  #   \"inputs\": \"### Instruction: What are the complications of diabetes? \\n\\n### Response: Diabetes can lead to various complications, including cardiovascular issues, kidney disease, nerve damage, and eye problems. Proper management is crucial to reduce the risk of these complications.\"\n",
        "  # },\n",
        "  # {\n",
        "  #   \"inputs\": \"### Instruction: Can diabetes be prevented? \\n\\n### Response: While Type 1 diabetes cannot be prevented, Type 2 diabetes can often be delayed or prevented through a healthy lifestyle. This includes maintaining a balanced diet, regular physical activity, and maintaining a healthy weight.\"\n",
        "  # },\n",
        "  # {\n",
        "  #   \"inputs\": \"### Instruction: Are there dietary restrictions for people with diabetes? \\n\\n### Response: Individuals with diabetes should follow a well-balanced diet that includes whole grains, fruits, vegetables, lean proteins, and healthy fats. Monitoring carbohydrate intake and controlling portion sizes are also important.\"\n",
        "  # },\n",
        "  # {\n",
        "  #   \"inputs\": \"### Instruction: What is the link between diabetes and heart health? \\n\\n### Response: Diabetes is a significant risk factor for heart disease. Managing blood sugar levels, cholesterol, and blood pressure is essential for reducing the risk of cardiovascular complications in individuals with diabetes.\"\n",
        "  # },\n",
        "  # {\n",
        "  #   \"inputs\": \"### Instruction: How does exercise impact diabetes management? \\n\\n### Response: Regular physical activity is beneficial for diabetes management. It helps control blood sugar levels, improves insulin sensitivity, and contributes to overall health. It's important to consult with healthcare professionals to design an appropriate exercise plan.\"\n",
        "  # },\n",
        "  # {\n",
        "  #   \"inputs\": \"### Instruction: What are the long-term effects of diabetes on the body? \\n\\n### Response: Long-term effects of diabetes may include damage to blood vessels, nerves, and organs. Complications can affect the eyes, kidneys, heart, and extremities. Proper management can minimize the risk of these complications.\"\n",
        "  # },\n",
        "  # {\n",
        "  #   \"inputs\": \"### Instruction: Is gestational diabetes common during pregnancy? \\n\\n### Response: Gestational diabetes occurs in some pregnant women and increases the risk of Type 2 diabetes later in life. It is important to monitor blood sugar levels during pregnancy and follow healthcare provider recommendations.\"\n",
        "  # },\n",
        "  # {\n",
        "  #   \"inputs\": \"### Instruction: How does stress affect diabetes? \\n\\n### Response: Stress can impact blood sugar levels in individuals with diabetes. Managing stress through relaxation techniques, mindfulness, and a healthy lifestyle is important for overall well-being and diabetes control.\"\n",
        "  # },\n",
        "  #       {\n",
        "  #   \"inputs\": \"### Instruction: What is the role of carbohydrates in diabetes management? \\n\\n### Response: Carbohydrates affect blood sugar levels, so individuals with diabetes need to monitor their carbohydrate intake. Choosing complex carbohydrates and spreading them throughout the day helps maintain stable blood sugar levels.\"\n",
        "  # },\n",
        "  # {\n",
        "  #   \"inputs\": \"### Instruction: Can diabetes lead to vision problems? \\n\\n### Response: Yes, diabetes can lead to vision problems, including diabetic retinopathy. Regular eye exams and proper diabetes management are essential to prevent or detect these issues early.\"\n",
        "  # },\n",
        "  # {\n",
        "  #   \"inputs\": \"### Instruction: How does alcohol consumption affect diabetes? \\n\\n### Response: Moderate alcohol consumption may be acceptable for some individuals with diabetes, but excessive intake can affect blood sugar levels and interfere with medication. It's important to consult with healthcare professionals for personalized advice.\"\n",
        "  # },\n",
        "  # {\n",
        "  #   \"inputs\": \"### Instruction: Are there alternative treatments for diabetes? \\n\\n### Response: While lifestyle changes, medication, and insulin are common treatments, some individuals explore complementary therapies such as acupuncture or herbal supplements. However, it's crucial to consult with healthcare providers before trying alternative treatments.\"\n",
        "  # },\n",
        "  # {\n",
        "  #   \"inputs\": \"### Instruction: What is the relationship between obesity and Type 2 diabetes? \\n\\n### Response: Obesity is a significant risk factor for Type 2 diabetes. Maintaining a healthy weight through a balanced diet and regular exercise is crucial for preventing and managing Type 2 diabetes.\"\n",
        "  # },\n",
        "  # {\n",
        "  #   \"inputs\": \"### Instruction: How can family and friends support someone with diabetes? \\n\\n### Response: Support from family and friends is important for individuals with diabetes. Understanding the condition, encouraging healthy habits, and offering emotional support can contribute to effective diabetes management.\"\n",
        "  # },\n",
        "  # {\n",
        "  #   \"inputs\": \"### Instruction: Can diabetes affect mental health? \\n\\n### Response: Yes, diabetes can impact mental health. The stress of managing the condition, concerns about complications, and fluctuations in blood sugar levels may contribute to mental health challenges. Seeking support and addressing mental health is an integral part of diabetes care.\"\n",
        "  # },\n",
        "  # {\n",
        "  #   \"inputs\": \"### Instruction: Is there a cure for diabetes? \\n\\n### Response: Currently, there is no cure for diabetes. However, proper management through lifestyle changes, medication, and insulin therapy can help individuals lead healthy and fulfilling lives with diabetes.\"\n",
        "  # },\n",
        "\n",
        "  #   ]\n",
        "\n",
        "\n",
        "      # this is where fine-tuning happens\n",
        "      # num_epochs is the number of times you fine-tune the model\n",
        "      # more epochs tends to get better results, but you also run the risk of \"overfitting\"\n",
        "      # play around with this number to find what works best for you\n",
        "      # num_epochs = 3\n",
        "      # count = 0\n",
        "      # while count < num_epochs:\n",
        "      #     print(f\"Fine-tuning the model, iteration {count + 1}\")\n",
        "      #     new_model_adapter.fine_tune(samples=samples)\n",
        "      #     count = count + 1\n",
        "\n",
        "      # # after fine-tuning\n",
        "      # completion = new_model_adapter.complete(query=sample_query, max_generated_token_count=100).generated_output\n",
        "      # print(f\"Generated (after fine-tune): {completion}\")\n",
        "\n",
        "      # new_model_adapter.delete()\n",
        "\n",
        "if __name__ == \"__main__\":\n",
        "    main()"
      ],
      "metadata": {
        "id": "Scor9o08VVhQ",
        "outputId": "f583dd5b-619e-4ebb-aeb7-54223d74f027",
        "colab": {
          "base_uri": "https://localhost:8080/"
        }
      },
      "execution_count": 7,
      "outputs": [
        {
          "output_type": "stream",
          "name": "stdout",
          "text": [
            "Created model adapter with id ba3674b8-eebd-47bb-837c-590256f1fcb1_model_adapter\n",
            "Asking: ### Instruction: I'm feeling dazy most of the time, is there a chance that I'm suffering from diabete  \n",
            "\n",
            "### Response:\n",
            " It's possible, but there are other conditions that can cause similar symptoms. It's important to consult with a healthcare professional for an accurate diagnosis and appropriate treatment.\n"
          ]
        }
      ]
    }
  ]
}